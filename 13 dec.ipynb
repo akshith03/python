{
 "cells": [
  {
   "cell_type": "markdown",
   "metadata": {},
   "source": [
    "# markdown"
   ]
  },
  {
   "cell_type": "markdown",
   "metadata": {},
   "source": [
    "## markdown"
   ]
  },
  {
   "cell_type": "markdown",
   "metadata": {},
   "source": [
    "### mark down"
   ]
  },
  {
   "cell_type": "markdown",
   "metadata": {},
   "source": [
    "# insert site adress\n",
    "[site](https://www.google.com/search?q=gitam+student+portal&oq=gitam+student+po&aqs=chrome.1.69i57j0l7.8456j0j7&sourceid=chrome&ie=UTF-8)"
   ]
  },
  {
   "cell_type": "markdown",
   "metadata": {},
   "source": [
    "# insert image\n",
    "![text](data:image/jpeg;base64,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)"
   ]
  },
  {
   "cell_type": "markdown",
   "metadata": {},
   "source": [
    "# insert image\n",
    "![text](https://ikimaru.com/image/340741-full_wallpaper-hd-harley-quinn-and-joker-2019-live-wallpaper-hd.jpg)"
   ]
  },
  {
   "cell_type": "markdown",
   "metadata": {},
   "source": [
    "# python basics"
   ]
  },
  {
   "cell_type": "markdown",
   "metadata": {},
   "source": [
    "# creating ordered list\n",
    "1. abc\n",
    "2. def\n",
    "   3. efg\n",
    "   4. tyu"
   ]
  },
  {
   "cell_type": "markdown",
   "metadata": {},
   "source": [
    "# creating unordered list\n",
    "- abc\n",
    "- tyqjygu\n",
    "     - ykug\n",
    "     - ouhkh"
   ]
  },
  {
   "cell_type": "markdown",
   "metadata": {},
   "source": [
    "## Bold  and italic text\n",
    "**GITAM**\n",
    "\n",
    "*GITAM*"
   ]
  },
  {
   "cell_type": "code",
   "execution_count": 1,
   "metadata": {},
   "outputs": [
    {
     "name": "stdout",
     "output_type": "stream",
     "text": [
      "hello world!!\n"
     ]
    }
   ],
   "source": [
    "# basic hello \n",
    "print(\"hello world!!\")"
   ]
  },
  {
   "cell_type": "code",
   "execution_count": 2,
   "metadata": {},
   "outputs": [
    {
     "data": {
      "text/plain": [
       "30"
      ]
     },
     "execution_count": 2,
     "metadata": {},
     "output_type": "execute_result"
    }
   ],
   "source": [
    "# variable creation\n",
    "x=10\n",
    "y=20\n",
    "x+y"
   ]
  },
  {
   "cell_type": "markdown",
   "metadata": {},
   "source": [
    "# rules for variable\n",
    "name should begin with a character\n",
    "no special character allowed except _"
   ]
  },
  {
   "cell_type": "code",
   "execution_count": 3,
   "metadata": {},
   "outputs": [
    {
     "name": "stdout",
     "output_type": "stream",
     "text": [
      "my name is akshith age is 20\n"
     ]
    }
   ],
   "source": [
    "name=\"akshith\"\n",
    "age =20\n",
    "print(\"my name is\",name,\"age is\",age)"
   ]
  },
  {
   "cell_type": "code",
   "execution_count": 4,
   "metadata": {},
   "outputs": [
    {
     "name": "stdout",
     "output_type": "stream",
     "text": [
      "enter nameakshith\n",
      "enter age20\n",
      "my name is akshith age is 20\n"
     ]
    }
   ],
   "source": [
    "name=input(\"enter name\")\n",
    "age=int(input(\"enter age\"))\n",
    "print(\"my name is\",name,\"age is\",age)"
   ]
  },
  {
   "cell_type": "code",
   "execution_count": 7,
   "metadata": {},
   "outputs": [
    {
     "name": "stdout",
     "output_type": "stream",
     "text": [
      "enter no50\n",
      "enter no5\n",
      "55 45 250 10.0 0\n"
     ]
    }
   ],
   "source": [
    "x=int(input(\"enter no\"))\n",
    "y=int(input(\"enter no\"))\n",
    "print(x+y,x-y,x*y,x/y,x%y)\n",
    "\n",
    "\n",
    "\n",
    "\n"
   ]
  },
  {
   "cell_type": "markdown",
   "metadata": {},
   "source": [
    "# fundamental data types\n",
    "int\n",
    "\n",
    "float\n",
    "\n",
    "complex\n",
    "\n",
    "boolean\n",
    "\n",
    "string"
   ]
  },
  {
   "cell_type": "code",
   "execution_count": 8,
   "metadata": {},
   "outputs": [
    {
     "name": "stdout",
     "output_type": "stream",
     "text": [
      "<class 'int'> <class 'float'> <class 'complex'>\n"
     ]
    }
   ],
   "source": [
    "x=10\n",
    "y=12.32\n",
    "z=6+5j\n",
    "print(type(x),type(y),type(z))"
   ]
  },
  {
   "cell_type": "code",
   "execution_count": 9,
   "metadata": {},
   "outputs": [
    {
     "name": "stdout",
     "output_type": "stream",
     "text": [
      "(2+5j)\n"
     ]
    }
   ],
   "source": [
    "c=complex(2,5)\n",
    "print(c)\n"
   ]
  },
  {
   "cell_type": "code",
   "execution_count": 10,
   "metadata": {},
   "outputs": [
    {
     "name": "stdout",
     "output_type": "stream",
     "text": [
      "(2+5j)\n"
     ]
    }
   ],
   "source": [
    "c=complex(2,5)\n",
    "print(c)"
   ]
  },
  {
   "cell_type": "code",
   "execution_count": 12,
   "metadata": {},
   "outputs": [
    {
     "name": "stdout",
     "output_type": "stream",
     "text": [
      "(7+11j) (-3-1j)\n"
     ]
    }
   ],
   "source": [
    "c1=3+5j\n",
    "d=5+6j\n",
    "print(c+d,c-d)"
   ]
  },
  {
   "cell_type": "code",
   "execution_count": 18,
   "metadata": {},
   "outputs": [
    {
     "data": {
      "text/plain": [
       "True"
      ]
     },
     "execution_count": 18,
     "metadata": {},
     "output_type": "execute_result"
    }
   ],
   "source": [
    " a = 5\n",
    "b = 4\n",
    "a > b\n"
   ]
  },
  {
   "cell_type": "code",
   "execution_count": 19,
   "metadata": {},
   "outputs": [
    {
     "name": "stdout",
     "output_type": "stream",
     "text": [
      "<class 'str'> <class 'str'>\n"
     ]
    }
   ],
   "source": [
    "s=\"rhyo\"\n",
    "t=\"ynnn\"\n",
    "print(type(s),type(t))"
   ]
  },
  {
   "cell_type": "code",
   "execution_count": 20,
   "metadata": {},
   "outputs": [
    {
     "name": "stdout",
     "output_type": "stream",
     "text": [
      "<class 'int'>\n",
      "<class 'str'>\n"
     ]
    }
   ],
   "source": [
    "i=100\n",
    "print(type(i))\n",
    "s1=str(i)\n",
    "print(type(s1))"
   ]
  },
  {
   "cell_type": "code",
   "execution_count": 21,
   "metadata": {},
   "outputs": [
    {
     "name": "stdout",
     "output_type": "stream",
     "text": [
      "4\n"
     ]
    }
   ],
   "source": [
    "a=1234\n",
    "print(len(str(a)))"
   ]
  },
  {
   "cell_type": "code",
   "execution_count": 22,
   "metadata": {},
   "outputs": [
    {
     "name": "stdout",
     "output_type": "stream",
     "text": [
      "100 200 200 200 1 2 3\n"
     ]
    }
   ],
   "source": [
    "n1=100\n",
    "a=b=c=200\n",
    "a1,b1,c1= 1,2,3\n",
    "print(n1,a,b,c,a1,b1,c1)"
   ]
  },
  {
   "cell_type": "markdown",
   "metadata": {},
   "source": [
    "#precedence of operator\n",
    "paranthesis\n",
    "power\n",
    "multiplication\n",
    "addition"
   ]
  },
  {
   "cell_type": "code",
   "execution_count": null,
   "metadata": {},
   "outputs": [],
   "source": [
    "\n",
    " x=1+2**3/4+5\n",
    "    print(x)"
   ]
  },
  {
   "cell_type": "code",
   "execution_count": 24,
   "metadata": {},
   "outputs": [
    {
     "name": "stdout",
     "output_type": "stream",
     "text": [
      "11.0\n"
     ]
    }
   ],
   "source": [
    "x=1+2**3/4*5\n",
    "print(x)"
   ]
  },
  {
   "cell_type": "markdown",
   "metadata": {},
   "source": [
    "# operators\n",
    "## arethematic\n",
    "1+\n",
    "2-\n",
    "3*\n",
    "4/\n",
    "5%\n",
    "6**\n",
    "7//\n"
   ]
  },
  {
   "cell_type": "code",
   "execution_count": 6,
   "metadata": {},
   "outputs": [
    {
     "name": "stdout",
     "output_type": "stream",
     "text": [
      "enter no5\n",
      "odd\n"
     ]
    }
   ],
   "source": [
    "n=int(input(\"enter no\"))\n",
    "if n%2==0:\n",
    "    print(\"even\")\n",
    "else :\n",
    "    print(\"odd\")\n"
   ]
  },
  {
   "cell_type": "code",
   "execution_count": 11,
   "metadata": {},
   "outputs": [
    {
     "name": "stdout",
     "output_type": "stream",
     "text": [
      "enter no15\n",
      "s\n"
     ]
    }
   ],
   "source": [
    "n=int(input(\"enter no\"))\n",
    "if n%3==0 and n%5==0 :\n",
    "    print(\"s\")\n",
    "else:\n",
    "    print(\"no\")   "
   ]
  },
  {
   "cell_type": "markdown",
   "metadata": {},
   "source": [
    "conditional staments\n",
    ">conditional statements\n",
    "\n",
    "looping statements\n",
    "\n",
    "if else statement sybntax\n",
    "\n",
    "if condition:\n",
    "\n",
    "    statements\n",
    "    \n",
    "else\n",
    "\n",
    "    statemets\n",
    "    "
   ]
  },
  {
   "cell_type": "code",
   "execution_count": 16,
   "metadata": {},
   "outputs": [
    {
     "name": "stdout",
     "output_type": "stream",
     "text": [
      "enter no-7\n",
      "ve\n"
     ]
    }
   ],
   "source": [
    "n=int(input(\"enter no\"))\n",
    "if n>0:\n",
    "    print(\"+ve\")\n",
    "elif n<0:\n",
    "    print(\"ve\")\n",
    "else:\n",
    "    print(\"zero\")"
   ]
  },
  {
   "cell_type": "code",
   "execution_count": 19,
   "metadata": {},
   "outputs": [
    {
     "name": "stdout",
     "output_type": "stream",
     "text": [
      "enter year2012\n",
      "leap\n"
     ]
    }
   ],
   "source": [
    "n=int(input(\"enter year\"))\n",
    "if n%4==0:\n",
    "    print(\"leap\")\n",
    "else:\n",
    "    print(\"not\")"
   ]
  },
  {
   "cell_type": "code",
   "execution_count": null,
   "metadata": {},
   "outputs": [],
   "source": []
  }
 ],
 "metadata": {
  "kernelspec": {
   "display_name": "Python 3",
   "language": "python",
   "name": "python3"
  },
  "language_info": {
   "codemirror_mode": {
    "name": "ipython",
    "version": 3
   },
   "file_extension": ".py",
   "mimetype": "text/x-python",
   "name": "python",
   "nbconvert_exporter": "python",
   "pygments_lexer": "ipython3",
   "version": "3.7.3"
  }
 },
 "nbformat": 4,
 "nbformat_minor": 2
}
